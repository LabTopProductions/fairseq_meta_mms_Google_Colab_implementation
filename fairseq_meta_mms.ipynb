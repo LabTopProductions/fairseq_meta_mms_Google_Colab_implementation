{
  "nbformat": 4,
  "nbformat_minor": 0,
  "metadata": {
    "colab": {
      "provenance": [],
      "gpuType": "T4",
      "machine_shape": "hm",
      "include_colab_link": true
    },
    "kernelspec": {
      "name": "python3",
      "display_name": "Python 3"
    },
    "language_info": {
      "name": "python"
    },
    "accelerator": "GPU",
    "gpuClass": "standard"
  },
  "cells": [
    {
      "cell_type": "markdown",
      "metadata": {
        "id": "view-in-github",
        "colab_type": "text"
      },
      "source": [
        "<a href=\"https://colab.research.google.com/github/epk2112/fairseq_meta_mms_Google_Colab_implementation/blob/main/fairseq_meta_mms.ipynb\" target=\"_parent\"><img src=\"https://colab.research.google.com/assets/colab-badge.svg\" alt=\"Open In Colab\"/></a>"
      ]
    },
    {
      "cell_type": "code",
      "execution_count": null,
      "metadata": {
        "id": "K97c9UMoA7GZ"
      },
      "outputs": [],
      "source": [
        "import os\n",
        "\n",
        "!git clone https://github.com/pytorch/fairseq\n",
        "\n",
        "# Get the current working directory\n",
        "current_dir = os.getcwd()\n",
        "\n",
        "# Create the directory paths\n",
        "audio_samples_dir = os.path.join(current_dir, \"audio_samples\")\n",
        "temp_dir = os.path.join(current_dir, \"temp_dir\")\n",
        "\n",
        "# Create the directories if they don't exist\n",
        "os.makedirs(audio_samples_dir, exist_ok=True)\n",
        "os.makedirs(temp_dir, exist_ok=True)\n",
        "\n",
        "\n",
        "# Change current working directory\n",
        "os.chdir('fairseq')\n",
        "\n",
        "!pwd\n",
        "\n",
        "# to install the latest stable release (0.10.x)\n",
        "# pip install fairseq"
      ]
    },
    {
      "cell_type": "code",
      "source": [
        "# Install requirements and build\n",
        "\n",
        "!pip install --editable ./"
      ],
      "metadata": {
        "id": "Y8CduZvkB3uc"
      },
      "execution_count": null,
      "outputs": []
    },
    {
      "cell_type": "code",
      "source": [
        "!pip install tensorboardX"
      ],
      "metadata": {
        "id": "0udc5SQSEw2g"
      },
      "execution_count": null,
      "outputs": []
    },
    {
      "cell_type": "code",
      "source": [
        "!pwd"
      ],
      "metadata": {
        "colab": {
          "base_uri": "https://localhost:8080/"
        },
        "id": "uaADAq4TOG-b",
        "outputId": "85b13104-cf12-4553-f022-d6d8c70beffb"
      },
      "execution_count": 10,
      "outputs": [
        {
          "output_type": "stream",
          "name": "stdout",
          "text": [
            "/content/fairseq\n"
          ]
        }
      ]
    },
    {
      "cell_type": "code",
      "source": [
        "# Download Model\n",
        "\n",
        "# # MMS-1B:FL102 model - 102 Languages - FLEURS Dataset\n",
        "# !wget -P ./models_new 'https://dl.fbaipublicfiles.com/mms/asr/mms1b_fl102.pt'\n",
        "\n",
        "# # MMS-1B:L1107 - 1107 Languages - MMS-lab Dataset\n",
        "# !wget -P ./models_new 'https://dl.fbaipublicfiles.com/mms/asr/mms1b_l1107.pt'\n",
        "\n",
        "# MMS-1B-all - 1162 Languages - MMS-lab + FLEURS + CV + VP + MLS\n",
        "!wget -P ./models_new 'https://dl.fbaipublicfiles.com/mms/asr/mms1b_all.pt'\n"
      ],
      "metadata": {
        "id": "ixIToCXuE-XV",
        "colab": {
          "base_uri": "https://localhost:8080/"
        },
        "outputId": "5012d767-b275-4821-f065-3f44b6d11972"
      },
      "execution_count": 14,
      "outputs": [
        {
          "output_type": "stream",
          "name": "stdout",
          "text": [
            "--2023-05-23 16:17:35--  https://dl.fbaipublicfiles.com/mms/asr/mms1b_all.pt\n",
            "Resolving dl.fbaipublicfiles.com (dl.fbaipublicfiles.com)... 52.84.251.27, 52.84.251.15, 52.84.251.106, ...\n",
            "Connecting to dl.fbaipublicfiles.com (dl.fbaipublicfiles.com)|52.84.251.27|:443... connected.\n",
            "HTTP request sent, awaiting response... 200 OK\n",
            "Length: 14660831159 (14G) [binary/octet-stream]\n",
            "Saving to: ‘./models_new/mms1b_all.pt’\n",
            "\n",
            "mms1b_all.pt        100%[===================>]  13.65G   172MB/s    in 92s     \n",
            "\n",
            "2023-05-23 16:19:07 (152 MB/s) - ‘./models_new/mms1b_all.pt’ saved [14660831159/14660831159]\n",
            "\n"
          ]
        }
      ]
    },
    {
      "cell_type": "code",
      "source": [
        "# Run Inference\n",
        "\n",
        "import os\n",
        "\n",
        "os.environ[\"TMPDIR\"] = '/content/temp_dir'\n",
        "os.environ[\"PYTHONPATH\"] = \".\"\n",
        "os.environ[\"PREFIX\"] = \"INFER\"\n",
        "os.environ[\"HYDRA_FULL_ERROR\"] = \"1\"\n",
        "os.environ[\"USER\"] = \"micro\"\n",
        "\n",
        "!python examples/mms/asr/infer/mms_infer.py --model \"/content/fairseq/models_new/mms1b_all.pt\" --lang \"swh\" --audio \"/content/audio_samples/small_trim4.wav\""
      ],
      "metadata": {
        "id": "Aw0XFCOnE-U2",
        "colab": {
          "base_uri": "https://localhost:8080/"
        },
        "outputId": "b06dac5b-2757-4536-99c9-cb93c3204e54"
      },
      "execution_count": 15,
      "outputs": [
        {
          "output_type": "stream",
          "name": "stdout",
          "text": [
            ">>> preparing tmp manifest dir ...\n",
            ">>> loading model & running inference ...\n",
            "2023-05-23 16:21:10.695950: I tensorflow/core/platform/cpu_feature_guard.cc:182] This TensorFlow binary is optimized to use available CPU instructions in performance-critical operations.\n",
            "To enable the following instructions: AVX2 AVX512F FMA, in other operations, rebuild TensorFlow with the appropriate compiler flags.\n",
            "2023-05-23 16:21:12.698154: W tensorflow/compiler/tf2tensorrt/utils/py_utils.cc:38] TF-TRT Warning: Could not find TensorRT\n",
            "===============\n",
            "Input: /content/audio_samples/small_trim4.wav\n",
            "Output: ot kwa sababu tunajua nyumba ni paa na ili nyumba ikamilike lazima paaliwe bora ko tunakushauri mteja wetu ichague san benki hautajutia msimu huwa saba saba kwanza tunaofa ofa kubwa ya bei ambayo ni asilimia 10 kwa kila bati utakayochagua lakini pia ili kutufikia zaidi karibu ukiingia tu getini tupo karibu na jeshi la magereza karibu sana tutakupa punguzo la bei kwa kila bati lakini pia tuna warant kad kwa kila prodakti utakayonnua tuna bati ya mfumo huu wa ti5 ambayo pia utaipata kwa mfumo huu wa gross ni mfumo ambao wa kuteeleza inachengachenga au utaipata kwa mfumo huu wa chengachenga mfumo wa chengachenga ni tekinolojia mpya ambayo kwa kitaalamu inaitwa met ambayo met inakuwa na chengachenga ukishika hivi unaona kama mawe mawe huu mfumo ni tekinolojia mpya ambayo ina kumwezesha mteja kupata bati ambayo inakuwa ina shia inadumu zaidi\n"
          ]
        }
      ]
    },
    {
      "cell_type": "code",
      "source": [
        "!python examples/mms/asr/infer/mms_infer.py --model \"/content/fairseq/models_new/mms1b_all.pt\" --lang \"swh\" --audio \"/content/audio_samples/small_trim3.wav\""
      ],
      "metadata": {
        "colab": {
          "base_uri": "https://localhost:8080/"
        },
        "id": "_adYuCXBi8Ox",
        "outputId": "7ee69139-1d92-440f-87f9-d96b97edaa01"
      },
      "execution_count": 16,
      "outputs": [
        {
          "output_type": "stream",
          "name": "stdout",
          "text": [
            ">>> preparing tmp manifest dir ...\n",
            ">>> loading model & running inference ...\n",
            "2023-05-23 16:28:38.898031: I tensorflow/core/platform/cpu_feature_guard.cc:182] This TensorFlow binary is optimized to use available CPU instructions in performance-critical operations.\n",
            "To enable the following instructions: AVX2 AVX512F FMA, in other operations, rebuild TensorFlow with the appropriate compiler flags.\n",
            "2023-05-23 16:28:40.476158: W tensorflow/compiler/tf2tensorrt/utils/py_utils.cc:38] TF-TRT Warning: Could not find TensorRT\n",
            "===============\n",
            "Input: /content/audio_samples/small_trim3.wav\n",
            "Output: sisi koting yetu tumeiweka kiwango cha juu zaidi ambapo tumeongeza imekuwa koting mara tatu ambapo watu wengi wanafanya koting mara mbili ambayo kuwa hali ya hewa dal essalaam inafanya bati hiyo kutodumu mdamrefu kwa sababu hali ya hewa ya tanzania ni namadini na chumvi nyingi ko sisi tumeongeza mfumo wa koting ambayo tumefanya mara tatu ili kuiwezesha bati kudumu zaidi na kurangi kubaki kwa mda ule ule kwa mdamrefu na suala la kutu suala la kutu inakuwa ni kiwango kidogo cha alminiam na zinki ambacho kinafanya bati ile inakosa ubora wanaweka alminium kidogo au zinki kidogo lakini sisi tumekuwekea alminium na zinki ya kutosha ambapo tumeweka asilimia5 kwa5 ili bati iweze kudumu zaidi kwa wale wote ambao hawaijui san benki au awajawaitumia san benki ningependwa kuwa shauri kukonsida bati zetu kwa sababu bati zetu ni bati bora ambazo hutajutia kutumia ni bati ambayo ukiweka tunazingatia sana ubora wa mteja wetu\n"
          ]
        }
      ]
    },
    {
      "cell_type": "code",
      "source": [
        "!python examples/mms/asr/infer/mms_infer.py --model \"/content/fairseq/models_new/mms1b_l1107.pt\" --lang \"swh\" --audio \"/content/audio_samples/small_trim2.wav\""
      ],
      "metadata": {
        "colab": {
          "base_uri": "https://localhost:8080/"
        },
        "outputId": "0499f03a-c6ee-4d03-e447-949912314340",
        "id": "R75LASryTw51"
      },
      "execution_count": 13,
      "outputs": [
        {
          "output_type": "stream",
          "name": "stdout",
          "text": [
            ">>> preparing tmp manifest dir ...\n",
            ">>> loading model & running inference ...\n",
            "2023-05-23 15:52:04.942970: I tensorflow/core/platform/cpu_feature_guard.cc:182] This TensorFlow binary is optimized to use available CPU instructions in performance-critical operations.\n",
            "To enable the following instructions: AVX2 AVX512F FMA, in other operations, rebuild TensorFlow with the appropriate compiler flags.\n",
            "2023-05-23 15:52:06.677554: W tensorflow/compiler/tf2tensorrt/utils/py_utils.cc:38] TF-TRT Warning: Could not find TensorRT\n",
            "===============\n",
            "Input: /content/audio_samples/small_trim2.wav\n",
            "Output: tibies na shirika la viwango tanzania ama tibies kwa msini kwamba kampuni ya rusha na kampuni ya darslamu ya gretstimatiriozi ni kitu kimoja kwa tanzania tuna zaidi ya miaka mitano na ediofsi yetu ipo darslamu inapatikana nyererodi banda la ngozi karibu na kitio cha polisi cha brash kwa rusha tupoungalimitedi jirani na hosptali ya eneskei kwa majina naitwa murini ngasala ni sesmeneja  katika kiwanda chetu cha gret sitimatirio nimited tunaaina tatu za mabati tunabati ya kwanza ambao ni kologeted ambao watu wengi wameitumia kwa mda mrefu lakini sisi tumeileta kwa mfumo wa rangi na tuna vesatas ambao ipo kwa mfumo wa kigae lakini pia tunayoaiti faiv mabati mengi anapauka kwa sababu ya kiwango kidogo cha utengenezaji wake na uzalishaji wake mfano kwa nini mengi anapauka\n"
          ]
        }
      ]
    }
  ]
}